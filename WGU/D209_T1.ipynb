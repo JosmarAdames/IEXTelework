{
 "cells": [
  {
   "cell_type": "markdown",
   "metadata": {},
   "source": [
    "# D209 Data Mining I Performance Assessment (NVM4 TASK 1)"
   ]
  },
  {
   "cell_type": "markdown",
   "metadata": {},
   "source": [
    "## Part I: Research Question"
   ]
  },
  {
   "cell_type": "markdown",
   "metadata": {},
   "source": [
    "### A1: Proposal of Question"
   ]
  },
  {
   "cell_type": "markdown",
   "metadata": {},
   "source": [
    " The research question I will explore within this paper is \"What customers are at high churn risk with the service provider?\" Focusing my\n",
    " research on churn will allow the company to gain insights into future improvements. By finding the variables contributing to churn,\n",
    " the company can pinpoint which aspects of the organization are helpful and harmful. The company then can limit the harmful\n",
    " variables to help improve customer churn. I will use K-nearest neighbor (KNN), to help me solve the research question. "
   ]
  },
  {
   "cell_type": "markdown",
   "metadata": {},
   "source": [
    "### A2: Defined Goal"
   ]
  },
  {
   "cell_type": "markdown",
   "metadata": {},
   "source": [
    "One goal of my data analysis is to to be able to predict in advance which customers are showing indications of churning. This will influence decisions within the company, focusuing on changes to reduce future churn. In the end, this analysis will hopefully allow the company to retain more of it's customer base.  "
   ]
  },
  {
   "cell_type": "markdown",
   "metadata": {},
   "source": [
    "## Part II: Method Justification"
   ]
  },
  {
   "cell_type": "markdown",
   "metadata": {},
   "source": [
    "### B1: Explanation of Classification Method"
   ]
  },
  {
   "cell_type": "markdown",
   "metadata": {},
   "source": [
    "\"The KNN algorithm operates on the principle of similarity or 'nearness,' predicting the label or value of a new data point by considering the labels or values of its K-nearest (the value of K is simply an integer) neighbors in the training dataset\" (Miesle, 2024). The dominant classes of the closest data points will suggest how a data point of interest should be classified. Overall, KNN is very simplicistic and has a fast training time. "
   ]
  },
  {
   "cell_type": "markdown",
   "metadata": {},
   "source": [
    "### B2: Summary of Classification Method"
   ]
  },
  {
   "cell_type": "markdown",
   "metadata": {},
   "source": [
    "One major assumption of KNN is the the belief that similar items(points) can be found near each other. KNN uses this idea to group points together based on proximity of neighboring points.  "
   ]
  },
  {
   "cell_type": "markdown",
   "metadata": {},
   "source": [
    "### B3: Packages or Libraries List "
   ]
  },
  {
   "cell_type": "markdown",
   "metadata": {},
   "source": [
    "In this project, I will be using the Python coding language. Since Python is easy to read, learn, write, and is very versatile, I prefer using Python over R. Below are a list of packages I will use in this project: \n",
    "\n",
    "| Package Name | Description of Use |\n",
    "| :----------: | ----------- |\n",
    "| pandas       | Used in order to import/export data. Also, used to help preprocess (clean/encode) the data prior to using the KNN model|\n",
    "| numpy        | Used in order to import/export data. Also, used to help preprocess (clean/encode) the data prior to using the KNN model|\n",
    "| seaborn      | Used in order to the plot data within different graphs                                                                 |\n",
    "| matplotlib   | Used in order to plot the data within different graphs                                                                 |\n",
    "| sklearn.feature_selection    | Used in order for feature selection                                                                    |\n",
    "| sklearn.model_selection  | Used in order to split data into train and test sets                                                       |\n",
    "| sklearn.preprocessing | Used in order to scale the features                                                                           |"
   ]
  },
  {
   "cell_type": "markdown",
   "metadata": {},
   "source": [
    "## Part III: Data Prepartion"
   ]
  },
  {
   "cell_type": "markdown",
   "metadata": {},
   "source": [
    "### C1: Data Preprocessing"
   ]
  },
  {
   "cell_type": "markdown",
   "metadata": {},
   "source": [
    "These are my goals for Data Cleaning:\n",
    "* Finding and dropping duplicates\n",
    "    * I will use the .duplicated() command from pandas to ensure there is no duplicate data in the CSV.\n",
    "<br>\n",
    "<br>\n",
    "* Finding and replacing missing information (NULLS)\n",
    "    * I want to replace NULLS in the data to ensure it is well prepared before applying any regression techniques. I want our model to be as accurate as possible, and keeping NULLS within the dataset would throw off our model.\n",
    "    * I will use .isnull().sum to help detect NULLS. If there are any NULLS present, I will use .fillna() to replace the NULLS values with the mean value of the column\n",
    "<br>\n",
    "<br>\n",
    "* Detecting and resolving outliers\n",
    "    * To improve the model's accuracy, I will remove any outliers I find.\n",
    "    * I will only remove outliers from the variables that I will be using and not for the whole dataset.\n",
    "    * I will use the IQR method to remove outliers. This method will systematically detect and remove outliers surpassing a certain threshold\n",
    " <br>\n",
    " <br>\n",
    " \n",
    "These goals will allow me to correctly prepare the data \n",
    "and create a successful KNN model. "
   ]
  },
  {
   "cell_type": "markdown",
   "metadata": {},
   "source": [
    "### C2: Data Set Variables"
   ]
  },
  {
   "cell_type": "markdown",
   "metadata": {},
   "source": [
    "The spreadsheet “churn_clean.csv” contains a total of 10000 customers. We will look at the “churn” column to determine if a customer has recently ended their services with the company. Below is a list of each of the data types found:\n",
    "<br>\n",
    "<br>\n",
    "\n",
    "•\tCaseOrder (numeric), row 1 example: 1\n",
    "This column is used as an index to keep the order of rows of the original dataset. \n",
    "\n",
    "•\tCustomer_id (categorical), row 1 example: K409198\n",
    "This column is the unique identifier for each customer\n",
    "\n",
    "•\tInteraction (categorical), row 1 example: aa90260b-4141-4a24-8e36-b04ce1f4f77b\n",
    "This column is the unique identifier for the transaction the customer had\n",
    "\n",
    "•\tCity (categorical), row1 example: Point Baker\n",
    "This column is the customer ‘s city of residence based on the most recent billing statement\n",
    "\n",
    "•\tState (categorical), row 1 example: AK\n",
    "This column is the customer’s state of residence based on the most recent billing statement\n",
    "\n",
    "•\tCounty (categorical), row 1 example: Prince of Wales-Hyder\n",
    "This column is the customer’s county of residence based on the most recent billing statement\n",
    "\n",
    "•\tZip (categorical), row 1 example: 99927\n",
    "This column is the customer’s zip code of residence based on the most recent billing statement\n",
    "\n",
    "•\tLat (numeric), row 1 example: 56.251\n",
    "This column is the customer’s lat of residence based on the most recent billing statement\n",
    "\n",
    "•\tLng (numeric), row 1 example: -133.37571\n",
    "This column is the customer’s lng of residence based on the most recent billing statement\n",
    "\n",
    "•\tPopulation (numeric), row 1 example: 38\n",
    "This column is the population within a one-mile radius of the customer’s residence\n",
    "\n",
    "•\tArea (categorical), row 1 example: Urban\n",
    "This column is the area type the customer lives in based on the most recent census data\n",
    "\n",
    "•\tTimezone (categorical), row 1 example: America/Sitka\n",
    "This column is the time zone based off the customer’s residence\n",
    "\n",
    "•\tJob (categorical), row 1 example: Environmental health practitioner\n",
    "This column is the job of the customer based off the information provided at sign-up \n",
    "\n",
    "•\tChildren (numeric), row 2 example: 1\n",
    " This column is the number of the children that lives in the customer’s household based off the information provided at sign-up \n",
    "\n",
    "•\tAge (numeric), row 1 example: 68\n",
    "This column is the age of the customer based off the information provided at sign-up\n",
    "\n",
    "•\tEducation (categorical), row 1 example: Master's Degree\n",
    "This column is the highest degree earned by the customer based off the information provided at sign-up\n",
    "\n",
    "•\tEmployment (categorical), row 1 example: Part Time\n",
    "This column is the job of the customer based off the information provided at sign-up\n",
    "\n",
    "•\tIncome (numeric), row 1 example: 28561.99\n",
    "This column is the income of the customer based off the information provided at sign-up. \n",
    "\n",
    "•\tMarital (categorical), row 1 example: Widowed\n",
    "This column is the martial status of the customer based on the information provided at sign-up \n",
    "\n",
    "•\tGender (categorical), row 1 example: Male\n",
    "This column is the customer self- identification of their gender and is based on the information provided at sign up\n",
    "\n",
    "•\tChurn (categorical), row 1 example: No\n",
    "This column describes whether the customer discontinued service within the last month. This column will be very impactful in assisting us to answer the research question. \n",
    "\n",
    "•\tOutage_sec_perweek (numeric), row 1 example: 6.972566093 \n",
    "This column shows the average number of service outage per week for each customer\n",
    "\n",
    "•\tEmail (numeric), row 1 example: 10\n",
    "This column shows the total number of emails the customer sent within the past year. This includes marketing and correspondence emails. \n",
    "\n",
    "•\tContacts (numeric), row 1 example: 0\n",
    "This column shows the number of times the customer contacted technical support for assistance with their services \n",
    "\n",
    "•\tYearly_equip_failure (numeric), row 1 example: 1\n",
    "This column shows the number of times the customer had their equipment failed and replaced within the past year\n",
    "\n",
    "•\tTechie (categorical), row 1 example: No\n",
    "This column describes if the costumer views themselves as technically inclined based on the information provided at sign-up (Choices: yes, no) \n",
    "\n",
    "•\tContract (categorical), row 1 example: One year\n",
    "This column describes the type of contract the customer has (Choices: Month – to – month, One year, Two year) \n",
    "\n",
    "•\tPort_modem (categorical), row 1 example: Yes \n",
    "This column describes the if the customer is using the portable modem (Choices: yes, no)\n",
    "\n",
    "•\tTablet (categorical), row 1 example: Yes\n",
    "This column describes if the customer owes a tablet (Choices: yes, no)\n",
    "\n",
    "•\tInternetService (categorical), row 1 example: Fiber Optic\n",
    "This column describes what type of internet provider the customer has (Fiber Optic, DSL, None) \n",
    "\n",
    "•\tPhone (categorical), row 1 example: Yes\n",
    "This column describes whether the customer has a phone service (Choices: yes, no)\n",
    "\n",
    "•\tMultiple (categorical), row 1 example: No\n",
    "This column describes whether the customer has multiple lines (Choices: yes, no)\n",
    "\n",
    "•\tOnlineSecurity (categorical), row 1 example: Yes\n",
    "This column describes if the customer is using the online security add-on (Choices: yes, no)\n",
    "\n",
    "•\tOnlineBackup (categorical), row 1 example: Yes \n",
    "This column describes if the customer is using the online backup add-on (Choices: yes, no)\n",
    "\n",
    "•\tDeviceProtection (categorical), row 1 example: No\n",
    "This column describes if the customer is using the device protection add-on (Choices: yes, no)\n",
    "\n",
    "•\tTechSupport (categorical), row 1 example: No\n",
    "This column describes if the customer is using the technical support add-on (Choices: yes, no)\n",
    "\n",
    "•\tStreamingTV (categorical), row 1 example: No\n",
    "This column describes if the customer is using the streaming television add-on (Choices: yes, no)\n",
    "\n",
    "•\tStreamingMovies (categorical), row 1 example: Yes\n",
    "This column describes if the customer is using the streaming movies add-on (Choices: yes, no)\n",
    "\n",
    "•\tPaperlessBilling (categorical), row 1 example: Yes\n",
    "This column describes if the customer opted into using paperless billing (Choices: yes, no)\n",
    "\n",
    "•\tPaymentMethod (categorical), row 1 example: Credit Card (automatic)\n",
    "This column describes the customer’s payment method (Choices: electronic check, mailed check, bank [automatic bank transfer], credit card [automatic]\n",
    "•\tTenure, row 1 example: 6.795513\n",
    "This column describes the number of months the customer has stayed with the provider\n",
    "\n",
    "•\tMontlyCharge (numeric), row 1 example: 171.4497621\n",
    "This column describes the average monthly charge for service to the customer.\n",
    "\n",
    "•\tBandwidth_GB_Year (numeric), row 1 example: 904.5361102\n",
    "This column describes the average amount of data used in a year by the customer (in GBs) \n",
    "\n",
    "The following items below describe the customers’ responses to an eight-question survey on the provider. The customer rated the provider on different topics using a scale of 1 to 8 (1 = most important, 8 = least important). \n",
    "\n",
    "•\titem1 (categorical), row 1 example: 5\n",
    "Timely response\n",
    "\n",
    "•\titem2 (categorical), row 1 example: 5\n",
    "Timely fixes\n",
    "\n",
    "•\titem3 (categorical), row 1 example: 5\n",
    "Timely replacements\n",
    "\n",
    "•\titem4 (categorical), row 1 example: 3\n",
    "Reliability\n",
    "\n",
    "•\titem5 (categorical), row 1 example: 4\n",
    "Options\n",
    "\n",
    "•\titem6 (categorical), row 1 example: 4\n",
    "Respectful response\n",
    "\n",
    "•\titem7 (categorical), row 1 example: 3\n",
    "Courteous exchange\n",
    "\n",
    "•\titem8 (categorical), row 1 example: 4\n",
    "Evidence of active listening\n",
    "\n",
    "<br>\n",
    "<br>\n",
    "\n",
    "I will specifically use the 'Children', 'Age', 'Income', 'Churn', 'Email', 'Contacts', 'Yearly_equip_failure', 'Techie', 'Contract', 'InternetService', 'TechSupport', 'Tenure', 'MonthlyCharge', and 'Bandwidth_GB_Year' columns to complete the analysis for my classification question. "
   ]
  },
  {
   "cell_type": "markdown",
   "metadata": {},
   "source": [
    "### C3: Steps for Analysis"
   ]
  },
  {
   "cell_type": "code",
   "execution_count": 14,
   "metadata": {},
   "outputs": [],
   "source": [
    "# Imports\n",
    "import pandas as pd\n",
    "import numpy as np\n",
    "import matplotlib.pyplot as plt\n",
    "import seaborn as sns\n",
    "import statsmodels.api as sm "
   ]
  },
  {
   "cell_type": "code",
   "execution_count": 29,
   "metadata": {},
   "outputs": [
    {
     "data": {
      "text/html": [
       "<div>\n",
       "<style scoped>\n",
       "    .dataframe tbody tr th:only-of-type {\n",
       "        vertical-align: middle;\n",
       "    }\n",
       "\n",
       "    .dataframe tbody tr th {\n",
       "        vertical-align: top;\n",
       "    }\n",
       "\n",
       "    .dataframe thead th {\n",
       "        text-align: right;\n",
       "    }\n",
       "</style>\n",
       "<table border=\"1\" class=\"dataframe\">\n",
       "  <thead>\n",
       "    <tr style=\"text-align: right;\">\n",
       "      <th></th>\n",
       "      <th>Customer_id</th>\n",
       "      <th>Interaction</th>\n",
       "      <th>UID</th>\n",
       "      <th>City</th>\n",
       "      <th>State</th>\n",
       "      <th>County</th>\n",
       "      <th>Zip</th>\n",
       "      <th>Lat</th>\n",
       "      <th>Lng</th>\n",
       "      <th>Population</th>\n",
       "      <th>...</th>\n",
       "      <th>MonthlyCharge</th>\n",
       "      <th>Bandwidth_GB_Year</th>\n",
       "      <th>Item1</th>\n",
       "      <th>Item2</th>\n",
       "      <th>Item3</th>\n",
       "      <th>Item4</th>\n",
       "      <th>Item5</th>\n",
       "      <th>Item6</th>\n",
       "      <th>Item7</th>\n",
       "      <th>Item8</th>\n",
       "    </tr>\n",
       "    <tr>\n",
       "      <th>CaseOrder</th>\n",
       "      <th></th>\n",
       "      <th></th>\n",
       "      <th></th>\n",
       "      <th></th>\n",
       "      <th></th>\n",
       "      <th></th>\n",
       "      <th></th>\n",
       "      <th></th>\n",
       "      <th></th>\n",
       "      <th></th>\n",
       "      <th></th>\n",
       "      <th></th>\n",
       "      <th></th>\n",
       "      <th></th>\n",
       "      <th></th>\n",
       "      <th></th>\n",
       "      <th></th>\n",
       "      <th></th>\n",
       "      <th></th>\n",
       "      <th></th>\n",
       "      <th></th>\n",
       "    </tr>\n",
       "  </thead>\n",
       "  <tbody>\n",
       "    <tr>\n",
       "      <th>1</th>\n",
       "      <td>K409198</td>\n",
       "      <td>aa90260b-4141-4a24-8e36-b04ce1f4f77b</td>\n",
       "      <td>e885b299883d4f9fb18e39c75155d990</td>\n",
       "      <td>Point Baker</td>\n",
       "      <td>AK</td>\n",
       "      <td>Prince of Wales-Hyder</td>\n",
       "      <td>99927</td>\n",
       "      <td>56.25100</td>\n",
       "      <td>-133.37571</td>\n",
       "      <td>38</td>\n",
       "      <td>...</td>\n",
       "      <td>172.455519</td>\n",
       "      <td>904.536110</td>\n",
       "      <td>5</td>\n",
       "      <td>5</td>\n",
       "      <td>5</td>\n",
       "      <td>3</td>\n",
       "      <td>4</td>\n",
       "      <td>4</td>\n",
       "      <td>3</td>\n",
       "      <td>4</td>\n",
       "    </tr>\n",
       "    <tr>\n",
       "      <th>2</th>\n",
       "      <td>S120509</td>\n",
       "      <td>fb76459f-c047-4a9d-8af9-e0f7d4ac2524</td>\n",
       "      <td>f2de8bef964785f41a2959829830fb8a</td>\n",
       "      <td>West Branch</td>\n",
       "      <td>MI</td>\n",
       "      <td>Ogemaw</td>\n",
       "      <td>48661</td>\n",
       "      <td>44.32893</td>\n",
       "      <td>-84.24080</td>\n",
       "      <td>10446</td>\n",
       "      <td>...</td>\n",
       "      <td>242.632554</td>\n",
       "      <td>800.982766</td>\n",
       "      <td>3</td>\n",
       "      <td>4</td>\n",
       "      <td>3</td>\n",
       "      <td>3</td>\n",
       "      <td>4</td>\n",
       "      <td>3</td>\n",
       "      <td>4</td>\n",
       "      <td>4</td>\n",
       "    </tr>\n",
       "    <tr>\n",
       "      <th>3</th>\n",
       "      <td>K191035</td>\n",
       "      <td>344d114c-3736-4be5-98f7-c72c281e2d35</td>\n",
       "      <td>f1784cfa9f6d92ae816197eb175d3c71</td>\n",
       "      <td>Yamhill</td>\n",
       "      <td>OR</td>\n",
       "      <td>Yamhill</td>\n",
       "      <td>97148</td>\n",
       "      <td>45.35589</td>\n",
       "      <td>-123.24657</td>\n",
       "      <td>3735</td>\n",
       "      <td>...</td>\n",
       "      <td>159.947583</td>\n",
       "      <td>2054.706961</td>\n",
       "      <td>4</td>\n",
       "      <td>4</td>\n",
       "      <td>2</td>\n",
       "      <td>4</td>\n",
       "      <td>4</td>\n",
       "      <td>3</td>\n",
       "      <td>3</td>\n",
       "      <td>3</td>\n",
       "    </tr>\n",
       "    <tr>\n",
       "      <th>4</th>\n",
       "      <td>D90850</td>\n",
       "      <td>abfa2b40-2d43-4994-b15a-989b8c79e311</td>\n",
       "      <td>dc8a365077241bb5cd5ccd305136b05e</td>\n",
       "      <td>Del Mar</td>\n",
       "      <td>CA</td>\n",
       "      <td>San Diego</td>\n",
       "      <td>92014</td>\n",
       "      <td>32.96687</td>\n",
       "      <td>-117.24798</td>\n",
       "      <td>13863</td>\n",
       "      <td>...</td>\n",
       "      <td>119.956840</td>\n",
       "      <td>2164.579412</td>\n",
       "      <td>4</td>\n",
       "      <td>4</td>\n",
       "      <td>4</td>\n",
       "      <td>2</td>\n",
       "      <td>5</td>\n",
       "      <td>4</td>\n",
       "      <td>3</td>\n",
       "      <td>3</td>\n",
       "    </tr>\n",
       "    <tr>\n",
       "      <th>5</th>\n",
       "      <td>K662701</td>\n",
       "      <td>68a861fd-0d20-4e51-a587-8a90407ee574</td>\n",
       "      <td>aabb64a116e83fdc4befc1fbab1663f9</td>\n",
       "      <td>Needville</td>\n",
       "      <td>TX</td>\n",
       "      <td>Fort Bend</td>\n",
       "      <td>77461</td>\n",
       "      <td>29.38012</td>\n",
       "      <td>-95.80673</td>\n",
       "      <td>11352</td>\n",
       "      <td>...</td>\n",
       "      <td>149.948316</td>\n",
       "      <td>271.493436</td>\n",
       "      <td>4</td>\n",
       "      <td>4</td>\n",
       "      <td>4</td>\n",
       "      <td>3</td>\n",
       "      <td>4</td>\n",
       "      <td>4</td>\n",
       "      <td>4</td>\n",
       "      <td>5</td>\n",
       "    </tr>\n",
       "  </tbody>\n",
       "</table>\n",
       "<p>5 rows × 49 columns</p>\n",
       "</div>"
      ],
      "text/plain": [
       "          Customer_id                           Interaction  \\\n",
       "CaseOrder                                                     \n",
       "1             K409198  aa90260b-4141-4a24-8e36-b04ce1f4f77b   \n",
       "2             S120509  fb76459f-c047-4a9d-8af9-e0f7d4ac2524   \n",
       "3             K191035  344d114c-3736-4be5-98f7-c72c281e2d35   \n",
       "4              D90850  abfa2b40-2d43-4994-b15a-989b8c79e311   \n",
       "5             K662701  68a861fd-0d20-4e51-a587-8a90407ee574   \n",
       "\n",
       "                                        UID         City State  \\\n",
       "CaseOrder                                                        \n",
       "1          e885b299883d4f9fb18e39c75155d990  Point Baker    AK   \n",
       "2          f2de8bef964785f41a2959829830fb8a  West Branch    MI   \n",
       "3          f1784cfa9f6d92ae816197eb175d3c71      Yamhill    OR   \n",
       "4          dc8a365077241bb5cd5ccd305136b05e      Del Mar    CA   \n",
       "5          aabb64a116e83fdc4befc1fbab1663f9    Needville    TX   \n",
       "\n",
       "                          County    Zip       Lat        Lng  Population  ...  \\\n",
       "CaseOrder                                                                 ...   \n",
       "1          Prince of Wales-Hyder  99927  56.25100 -133.37571          38  ...   \n",
       "2                         Ogemaw  48661  44.32893  -84.24080       10446  ...   \n",
       "3                        Yamhill  97148  45.35589 -123.24657        3735  ...   \n",
       "4                      San Diego  92014  32.96687 -117.24798       13863  ...   \n",
       "5                      Fort Bend  77461  29.38012  -95.80673       11352  ...   \n",
       "\n",
       "          MonthlyCharge Bandwidth_GB_Year Item1  Item2  Item3  Item4 Item5  \\\n",
       "CaseOrder                                                                    \n",
       "1            172.455519        904.536110     5      5      5      3     4   \n",
       "2            242.632554        800.982766     3      4      3      3     4   \n",
       "3            159.947583       2054.706961     4      4      2      4     4   \n",
       "4            119.956840       2164.579412     4      4      4      2     5   \n",
       "5            149.948316        271.493436     4      4      4      3     4   \n",
       "\n",
       "          Item6 Item7  Item8  \n",
       "CaseOrder                     \n",
       "1             4     3      4  \n",
       "2             3     4      4  \n",
       "3             3     3      3  \n",
       "4             4     3      3  \n",
       "5             4     4      5  \n",
       "\n",
       "[5 rows x 49 columns]"
      ]
     },
     "execution_count": 29,
     "metadata": {},
     "output_type": "execute_result"
    }
   ],
   "source": [
    "file_path = r\"C:\\Users\\josma\\OneDrive\\Documents\\WGU\\MASTERS\\D209\\churn_clean.csv\"# Change file path \n",
    "df = pd.read_csv(file_path, index_col = 0, keep_default_na = False)\n",
    "df.head()"
   ]
  },
  {
   "cell_type": "code",
   "execution_count": 31,
   "metadata": {},
   "outputs": [
    {
     "name": "stdout",
     "output_type": "stream",
     "text": [
      "<class 'pandas.core.frame.DataFrame'>\n",
      "Index: 10000 entries, 1 to 10000\n",
      "Data columns (total 49 columns):\n",
      " #   Column                Non-Null Count  Dtype  \n",
      "---  ------                --------------  -----  \n",
      " 0   Customer_id           10000 non-null  object \n",
      " 1   Interaction           10000 non-null  object \n",
      " 2   UID                   10000 non-null  object \n",
      " 3   City                  10000 non-null  object \n",
      " 4   State                 10000 non-null  object \n",
      " 5   County                10000 non-null  object \n",
      " 6   Zip                   10000 non-null  int64  \n",
      " 7   Lat                   10000 non-null  float64\n",
      " 8   Lng                   10000 non-null  float64\n",
      " 9   Population            10000 non-null  int64  \n",
      " 10  Area                  10000 non-null  object \n",
      " 11  TimeZone              10000 non-null  object \n",
      " 12  Job                   10000 non-null  object \n",
      " 13  Children              10000 non-null  int64  \n",
      " 14  Age                   10000 non-null  int64  \n",
      " 15  Income                10000 non-null  float64\n",
      " 16  Marital               10000 non-null  object \n",
      " 17  Gender                10000 non-null  object \n",
      " 18  Churn                 10000 non-null  object \n",
      " 19  Outage_sec_perweek    10000 non-null  float64\n",
      " 20  Email                 10000 non-null  int64  \n",
      " 21  Contacts              10000 non-null  int64  \n",
      " 22  Yearly_equip_failure  10000 non-null  int64  \n",
      " 23  Techie                10000 non-null  object \n",
      " 24  Contract              10000 non-null  object \n",
      " 25  Port_modem            10000 non-null  object \n",
      " 26  Tablet                10000 non-null  object \n",
      " 27  InternetService       10000 non-null  object \n",
      " 28  Phone                 10000 non-null  object \n",
      " 29  Multiple              10000 non-null  object \n",
      " 30  OnlineSecurity        10000 non-null  object \n",
      " 31  OnlineBackup          10000 non-null  object \n",
      " 32  DeviceProtection      10000 non-null  object \n",
      " 33  TechSupport           10000 non-null  object \n",
      " 34  StreamingTV           10000 non-null  object \n",
      " 35  StreamingMovies       10000 non-null  object \n",
      " 36  PaperlessBilling      10000 non-null  object \n",
      " 37  PaymentMethod         10000 non-null  object \n",
      " 38  Tenure                10000 non-null  float64\n",
      " 39  MonthlyCharge         10000 non-null  float64\n",
      " 40  Bandwidth_GB_Year     10000 non-null  float64\n",
      " 41  Item1                 10000 non-null  int64  \n",
      " 42  Item2                 10000 non-null  int64  \n",
      " 43  Item3                 10000 non-null  int64  \n",
      " 44  Item4                 10000 non-null  int64  \n",
      " 45  Item5                 10000 non-null  int64  \n",
      " 46  Item6                 10000 non-null  int64  \n",
      " 47  Item7                 10000 non-null  int64  \n",
      " 48  Item8                 10000 non-null  int64  \n",
      "dtypes: float64(7), int64(15), object(27)\n",
      "memory usage: 3.8+ MB\n"
     ]
    }
   ],
   "source": [
    "df.info()"
   ]
  },
  {
   "cell_type": "code",
   "execution_count": 17,
   "metadata": {},
   "outputs": [
    {
     "data": {
      "text/plain": [
       "Index(['Customer_id', 'Interaction', 'UID', 'City', 'State', 'County', 'Zip',\n",
       "       'Lat', 'Lng', 'Population', 'Area', 'TimeZone', 'Job', 'Children',\n",
       "       'Age', 'Income', 'Marital', 'Gender', 'Churn', 'Outage_sec_perweek',\n",
       "       'Email', 'Contacts', 'Yearly_equip_failure', 'Techie', 'Contract',\n",
       "       'Port_modem', 'Tablet', 'InternetService', 'Phone', 'Multiple',\n",
       "       'OnlineSecurity', 'OnlineBackup', 'DeviceProtection', 'TechSupport',\n",
       "       'StreamingTV', 'StreamingMovies', 'PaperlessBilling', 'PaymentMethod',\n",
       "       'Tenure', 'MonthlyCharge', 'Bandwidth_GB_Year', 'Item1', 'Item2',\n",
       "       'Item3', 'Item4', 'Item5', 'Item6', 'Item7', 'Item8'],\n",
       "      dtype='object')"
      ]
     },
     "execution_count": 17,
     "metadata": {},
     "output_type": "execute_result"
    }
   ],
   "source": [
    "df.columns"
   ]
  },
  {
   "cell_type": "code",
   "execution_count": 27,
   "metadata": {},
   "outputs": [
    {
     "name": "stdout",
     "output_type": "stream",
     "text": [
      "Empty DataFrame\n",
      "Columns: [Customer_id, Interaction, UID, City, State, County, Zip, Lat, Lng, Population, Area, TimeZone, Job, Children, Age, Income, Marital, Gender, Churn, Outage_sec_perweek, Email, Contacts, Yearly_equip_failure, Techie, Contract, Port_modem, Tablet, InternetService, Phone, Multiple, OnlineSecurity, OnlineBackup, DeviceProtection, TechSupport, StreamingTV, StreamingMovies, PaperlessBilling, PaymentMethod, Tenure, MonthlyCharge, Bandwidth_GB_Year, Item1, Item2, Item3, Item4, Item5, Item6, Item7, Item8]\n",
      "Index: []\n",
      "\n",
      "[0 rows x 49 columns]\n",
      "There are 0 duplicates within the data\n"
     ]
    }
   ],
   "source": [
    " # Check for duplicates in the DataFrame\n",
    "\n",
    "print(df[df.duplicated()])\n",
    "\n",
    "print(\"There are {:.0f} duplicates within the data\".format(df[df.duplicated()].sum().sum()))"
   ]
  },
  {
   "cell_type": "code",
   "execution_count": 32,
   "metadata": {},
   "outputs": [
    {
     "name": "stdout",
     "output_type": "stream",
     "text": [
      "Customer_id             0\n",
      "Interaction             0\n",
      "UID                     0\n",
      "City                    0\n",
      "State                   0\n",
      "County                  0\n",
      "Zip                     0\n",
      "Lat                     0\n",
      "Lng                     0\n",
      "Population              0\n",
      "Area                    0\n",
      "TimeZone                0\n",
      "Job                     0\n",
      "Children                0\n",
      "Age                     0\n",
      "Income                  0\n",
      "Marital                 0\n",
      "Gender                  0\n",
      "Churn                   0\n",
      "Outage_sec_perweek      0\n",
      "Email                   0\n",
      "Contacts                0\n",
      "Yearly_equip_failure    0\n",
      "Techie                  0\n",
      "Contract                0\n",
      "Port_modem              0\n",
      "Tablet                  0\n",
      "InternetService         0\n",
      "Phone                   0\n",
      "Multiple                0\n",
      "OnlineSecurity          0\n",
      "OnlineBackup            0\n",
      "DeviceProtection        0\n",
      "TechSupport             0\n",
      "StreamingTV             0\n",
      "StreamingMovies         0\n",
      "PaperlessBilling        0\n",
      "PaymentMethod           0\n",
      "Tenure                  0\n",
      "MonthlyCharge           0\n",
      "Bandwidth_GB_Year       0\n",
      "Item1                   0\n",
      "Item2                   0\n",
      "Item3                   0\n",
      "Item4                   0\n",
      "Item5                   0\n",
      "Item6                   0\n",
      "Item7                   0\n",
      "Item8                   0\n",
      "dtype: int64\n",
      "There are 0 nulls within the data\n"
     ]
    }
   ],
   "source": [
    "#Checking for Nulls\n",
    "\n",
    "print(df.isnull().sum())\n",
    "\n",
    "print(\"There are {:.0f} nulls within the data\".format(df.isnull().sum().sum()))"
   ]
  },
  {
   "cell_type": "code",
   "execution_count": 35,
   "metadata": {},
   "outputs": [
    {
     "data": {
      "text/html": [
       "<div>\n",
       "<style scoped>\n",
       "    .dataframe tbody tr th:only-of-type {\n",
       "        vertical-align: middle;\n",
       "    }\n",
       "\n",
       "    .dataframe tbody tr th {\n",
       "        vertical-align: top;\n",
       "    }\n",
       "\n",
       "    .dataframe thead th {\n",
       "        text-align: right;\n",
       "    }\n",
       "</style>\n",
       "<table border=\"1\" class=\"dataframe\">\n",
       "  <thead>\n",
       "    <tr style=\"text-align: right;\">\n",
       "      <th></th>\n",
       "      <th>Children</th>\n",
       "      <th>Age</th>\n",
       "      <th>Income</th>\n",
       "      <th>Churn</th>\n",
       "      <th>Email</th>\n",
       "      <th>Contacts</th>\n",
       "      <th>Yearly_equip_failure</th>\n",
       "      <th>Techie</th>\n",
       "      <th>Contract</th>\n",
       "      <th>InternetService</th>\n",
       "      <th>TechSupport</th>\n",
       "      <th>Tenure</th>\n",
       "      <th>MonthlyCharge</th>\n",
       "      <th>Bandwidth_GB_Year</th>\n",
       "    </tr>\n",
       "    <tr>\n",
       "      <th>CaseOrder</th>\n",
       "      <th></th>\n",
       "      <th></th>\n",
       "      <th></th>\n",
       "      <th></th>\n",
       "      <th></th>\n",
       "      <th></th>\n",
       "      <th></th>\n",
       "      <th></th>\n",
       "      <th></th>\n",
       "      <th></th>\n",
       "      <th></th>\n",
       "      <th></th>\n",
       "      <th></th>\n",
       "      <th></th>\n",
       "    </tr>\n",
       "  </thead>\n",
       "  <tbody>\n",
       "    <tr>\n",
       "      <th>1</th>\n",
       "      <td>0</td>\n",
       "      <td>68</td>\n",
       "      <td>28561.99</td>\n",
       "      <td>No</td>\n",
       "      <td>10</td>\n",
       "      <td>0</td>\n",
       "      <td>1</td>\n",
       "      <td>No</td>\n",
       "      <td>One year</td>\n",
       "      <td>Fiber Optic</td>\n",
       "      <td>No</td>\n",
       "      <td>6.795513</td>\n",
       "      <td>172.455519</td>\n",
       "      <td>904.536110</td>\n",
       "    </tr>\n",
       "    <tr>\n",
       "      <th>2</th>\n",
       "      <td>1</td>\n",
       "      <td>27</td>\n",
       "      <td>21704.77</td>\n",
       "      <td>Yes</td>\n",
       "      <td>12</td>\n",
       "      <td>0</td>\n",
       "      <td>1</td>\n",
       "      <td>Yes</td>\n",
       "      <td>Month-to-month</td>\n",
       "      <td>Fiber Optic</td>\n",
       "      <td>No</td>\n",
       "      <td>1.156681</td>\n",
       "      <td>242.632554</td>\n",
       "      <td>800.982766</td>\n",
       "    </tr>\n",
       "    <tr>\n",
       "      <th>3</th>\n",
       "      <td>4</td>\n",
       "      <td>50</td>\n",
       "      <td>9609.57</td>\n",
       "      <td>No</td>\n",
       "      <td>9</td>\n",
       "      <td>0</td>\n",
       "      <td>1</td>\n",
       "      <td>Yes</td>\n",
       "      <td>Two Year</td>\n",
       "      <td>DSL</td>\n",
       "      <td>No</td>\n",
       "      <td>15.754144</td>\n",
       "      <td>159.947583</td>\n",
       "      <td>2054.706961</td>\n",
       "    </tr>\n",
       "    <tr>\n",
       "      <th>4</th>\n",
       "      <td>1</td>\n",
       "      <td>48</td>\n",
       "      <td>18925.23</td>\n",
       "      <td>No</td>\n",
       "      <td>15</td>\n",
       "      <td>2</td>\n",
       "      <td>0</td>\n",
       "      <td>Yes</td>\n",
       "      <td>Two Year</td>\n",
       "      <td>DSL</td>\n",
       "      <td>No</td>\n",
       "      <td>17.087227</td>\n",
       "      <td>119.956840</td>\n",
       "      <td>2164.579412</td>\n",
       "    </tr>\n",
       "    <tr>\n",
       "      <th>5</th>\n",
       "      <td>0</td>\n",
       "      <td>83</td>\n",
       "      <td>40074.19</td>\n",
       "      <td>Yes</td>\n",
       "      <td>16</td>\n",
       "      <td>2</td>\n",
       "      <td>1</td>\n",
       "      <td>No</td>\n",
       "      <td>Month-to-month</td>\n",
       "      <td>Fiber Optic</td>\n",
       "      <td>Yes</td>\n",
       "      <td>1.670972</td>\n",
       "      <td>149.948316</td>\n",
       "      <td>271.493436</td>\n",
       "    </tr>\n",
       "  </tbody>\n",
       "</table>\n",
       "</div>"
      ],
      "text/plain": [
       "           Children  Age    Income Churn  Email  Contacts  \\\n",
       "CaseOrder                                                   \n",
       "1                 0   68  28561.99    No     10         0   \n",
       "2                 1   27  21704.77   Yes     12         0   \n",
       "3                 4   50   9609.57    No      9         0   \n",
       "4                 1   48  18925.23    No     15         2   \n",
       "5                 0   83  40074.19   Yes     16         2   \n",
       "\n",
       "           Yearly_equip_failure Techie        Contract InternetService  \\\n",
       "CaseOrder                                                                \n",
       "1                             1     No        One year     Fiber Optic   \n",
       "2                             1    Yes  Month-to-month     Fiber Optic   \n",
       "3                             1    Yes        Two Year             DSL   \n",
       "4                             0    Yes        Two Year             DSL   \n",
       "5                             1     No  Month-to-month     Fiber Optic   \n",
       "\n",
       "          TechSupport     Tenure  MonthlyCharge  Bandwidth_GB_Year  \n",
       "CaseOrder                                                           \n",
       "1                  No   6.795513     172.455519         904.536110  \n",
       "2                  No   1.156681     242.632554         800.982766  \n",
       "3                  No  15.754144     159.947583        2054.706961  \n",
       "4                  No  17.087227     119.956840        2164.579412  \n",
       "5                 Yes   1.670972     149.948316         271.493436  "
      ]
     },
     "execution_count": 35,
     "metadata": {},
     "output_type": "execute_result"
    }
   ],
   "source": [
    "i_df = df[['Children','Age', 'Income','Churn','Email', 'Contacts', 'Yearly_equip_failure', 'Techie', \n",
    "          'Contract', 'InternetService', 'TechSupport','Tenure', 'MonthlyCharge', 'Bandwidth_GB_Year']]\n",
    "\n",
    "i_df.head() # These are the variables that will be used in the intial model"
   ]
  },
  {
   "cell_type": "code",
   "execution_count": 36,
   "metadata": {},
   "outputs": [
    {
     "name": "stdout",
     "output_type": "stream",
     "text": [
      "The amount of outliers for Children is 401\n",
      "\n",
      "\n",
      "The amount of outliers for Age is 0\n",
      "\n",
      "\n",
      "The amount of outliers for Income is 336\n",
      "\n",
      "\n",
      "There are no outliers for Churn since it is a categorical column\n",
      "\n",
      "\n",
      "The amount of outliers for Email is 38\n",
      "\n",
      "\n",
      "The amount of outliers for Contacts is 8\n",
      "\n",
      "\n",
      "The amount of outliers for Yearly_equip_failure is 94\n",
      "\n",
      "\n",
      "There are no outliers for Techie since it is a categorical column\n",
      "\n",
      "\n",
      "There are no outliers for Contract since it is a categorical column\n",
      "\n",
      "\n",
      "There are no outliers for InternetService since it is a categorical column\n",
      "\n",
      "\n",
      "There are no outliers for TechSupport since it is a categorical column\n",
      "\n",
      "\n",
      "The amount of outliers for Tenure is 0\n",
      "\n",
      "\n",
      "The amount of outliers for MonthlyCharge is 0\n",
      "\n",
      "\n",
      "The amount of outliers for Bandwidth_GB_Year is 0\n",
      "\n",
      "\n"
     ]
    }
   ],
   "source": [
    "#Checking for Outliers\n",
    "for c in u_df.columns:\n",
    "    if u_df[c].dtype == \"O\":\n",
    "        print(\"There are no outliers for {} since it is a categorical column\".format(c))\n",
    "        print('\\n')\n",
    "        \n",
    "    else:\n",
    "        Q1 = u_df[c].quantile(.25)\n",
    "        Q3 = u_df[c].quantile(.75)\n",
    "        \n",
    "        IQR = Q3-Q1\n",
    "        lower = Q1 - 1.5*IQR\n",
    "        upper = Q3 + 1.5*IQR\n",
    "        \n",
    "        outliers = u_df[(u_df[c]<lower) | (u_df[c]>upper)]\n",
    "    \n",
    "\n",
    "        \n",
    "        print (\"The amount of outliers for {} is {}\".format(c,outliers[c].count()))\n",
    "        print('\\n')\n",
    "        "
   ]
  },
  {
   "cell_type": "code",
   "execution_count": 37,
   "metadata": {},
   "outputs": [
    {
     "name": "stdout",
     "output_type": "stream",
     "text": [
      "Upper,Lower, IQR for Children is :7.5, -4.5, 3.0\n",
      "Upper,Lower, IQR for Age is :125.0, -19.0, 36.0\n",
      "Upper,Lower, IQR for Income is :104278.34875, -31807.46125, 34021.4525\n",
      "No treat needed for  for Churn since it is a categorical column\n",
      "\n",
      "\n",
      "Upper,Lower, IQR for Email is :20.0, 4.0, 4.0\n",
      "Upper,Lower, IQR for Contacts is :5.0, -3.0, 2.0\n",
      "Upper,Lower, IQR for Yearly_equip_failure is :2.5, -1.5, 1.0\n",
      "No treat needed for  for Techie since it is a categorical column\n",
      "\n",
      "\n",
      "No treat needed for  for Contract since it is a categorical column\n",
      "\n",
      "\n",
      "No treat needed for  for InternetService since it is a categorical column\n",
      "\n",
      "\n",
      "No treat needed for  for TechSupport since it is a categorical column\n",
      "\n",
      "\n",
      "Upper,Lower, IQR for Tenure is :141.822947112375, -72.42545852062501, 53.56210140825\n",
      "Upper,Lower, IQR for MonthlyCharge is :291.867954, 48.84601000000002, 60.75548599999999\n",
      "Upper,Lower, IQR for Bandwidth_GB_Year is :12110.64718325, -5288.03498675, 4349.6705425\n"
     ]
    },
    {
     "name": "stderr",
     "output_type": "stream",
     "text": [
      "C:\\Users\\josma\\AppData\\Local\\Temp\\ipykernel_52328\\2438224740.py:16: SettingWithCopyWarning: \n",
      "A value is trying to be set on a copy of a slice from a DataFrame.\n",
      "Try using .loc[row_indexer,col_indexer] = value instead\n",
      "\n",
      "See the caveats in the documentation: https://pandas.pydata.org/pandas-docs/stable/user_guide/indexing.html#returning-a-view-versus-a-copy\n",
      "  u_df[c] = np.where(u_df[c] <lower, lower, u_df[c]);\n",
      "C:\\Users\\josma\\AppData\\Local\\Temp\\ipykernel_52328\\2438224740.py:17: SettingWithCopyWarning: \n",
      "A value is trying to be set on a copy of a slice from a DataFrame.\n",
      "Try using .loc[row_indexer,col_indexer] = value instead\n",
      "\n",
      "See the caveats in the documentation: https://pandas.pydata.org/pandas-docs/stable/user_guide/indexing.html#returning-a-view-versus-a-copy\n",
      "  u_df[c] = np.where(u_df[c] >upper, upper, u_df[c]);\n",
      "C:\\Users\\josma\\AppData\\Local\\Temp\\ipykernel_52328\\2438224740.py:16: SettingWithCopyWarning: \n",
      "A value is trying to be set on a copy of a slice from a DataFrame.\n",
      "Try using .loc[row_indexer,col_indexer] = value instead\n",
      "\n",
      "See the caveats in the documentation: https://pandas.pydata.org/pandas-docs/stable/user_guide/indexing.html#returning-a-view-versus-a-copy\n",
      "  u_df[c] = np.where(u_df[c] <lower, lower, u_df[c]);\n",
      "C:\\Users\\josma\\AppData\\Local\\Temp\\ipykernel_52328\\2438224740.py:17: SettingWithCopyWarning: \n",
      "A value is trying to be set on a copy of a slice from a DataFrame.\n",
      "Try using .loc[row_indexer,col_indexer] = value instead\n",
      "\n",
      "See the caveats in the documentation: https://pandas.pydata.org/pandas-docs/stable/user_guide/indexing.html#returning-a-view-versus-a-copy\n",
      "  u_df[c] = np.where(u_df[c] >upper, upper, u_df[c]);\n",
      "C:\\Users\\josma\\AppData\\Local\\Temp\\ipykernel_52328\\2438224740.py:16: SettingWithCopyWarning: \n",
      "A value is trying to be set on a copy of a slice from a DataFrame.\n",
      "Try using .loc[row_indexer,col_indexer] = value instead\n",
      "\n",
      "See the caveats in the documentation: https://pandas.pydata.org/pandas-docs/stable/user_guide/indexing.html#returning-a-view-versus-a-copy\n",
      "  u_df[c] = np.where(u_df[c] <lower, lower, u_df[c]);\n",
      "C:\\Users\\josma\\AppData\\Local\\Temp\\ipykernel_52328\\2438224740.py:17: SettingWithCopyWarning: \n",
      "A value is trying to be set on a copy of a slice from a DataFrame.\n",
      "Try using .loc[row_indexer,col_indexer] = value instead\n",
      "\n",
      "See the caveats in the documentation: https://pandas.pydata.org/pandas-docs/stable/user_guide/indexing.html#returning-a-view-versus-a-copy\n",
      "  u_df[c] = np.where(u_df[c] >upper, upper, u_df[c]);\n",
      "C:\\Users\\josma\\AppData\\Local\\Temp\\ipykernel_52328\\2438224740.py:16: SettingWithCopyWarning: \n",
      "A value is trying to be set on a copy of a slice from a DataFrame.\n",
      "Try using .loc[row_indexer,col_indexer] = value instead\n",
      "\n",
      "See the caveats in the documentation: https://pandas.pydata.org/pandas-docs/stable/user_guide/indexing.html#returning-a-view-versus-a-copy\n",
      "  u_df[c] = np.where(u_df[c] <lower, lower, u_df[c]);\n",
      "C:\\Users\\josma\\AppData\\Local\\Temp\\ipykernel_52328\\2438224740.py:17: SettingWithCopyWarning: \n",
      "A value is trying to be set on a copy of a slice from a DataFrame.\n",
      "Try using .loc[row_indexer,col_indexer] = value instead\n",
      "\n",
      "See the caveats in the documentation: https://pandas.pydata.org/pandas-docs/stable/user_guide/indexing.html#returning-a-view-versus-a-copy\n",
      "  u_df[c] = np.where(u_df[c] >upper, upper, u_df[c]);\n",
      "C:\\Users\\josma\\AppData\\Local\\Temp\\ipykernel_52328\\2438224740.py:16: SettingWithCopyWarning: \n",
      "A value is trying to be set on a copy of a slice from a DataFrame.\n",
      "Try using .loc[row_indexer,col_indexer] = value instead\n",
      "\n",
      "See the caveats in the documentation: https://pandas.pydata.org/pandas-docs/stable/user_guide/indexing.html#returning-a-view-versus-a-copy\n",
      "  u_df[c] = np.where(u_df[c] <lower, lower, u_df[c]);\n",
      "C:\\Users\\josma\\AppData\\Local\\Temp\\ipykernel_52328\\2438224740.py:17: SettingWithCopyWarning: \n",
      "A value is trying to be set on a copy of a slice from a DataFrame.\n",
      "Try using .loc[row_indexer,col_indexer] = value instead\n",
      "\n",
      "See the caveats in the documentation: https://pandas.pydata.org/pandas-docs/stable/user_guide/indexing.html#returning-a-view-versus-a-copy\n",
      "  u_df[c] = np.where(u_df[c] >upper, upper, u_df[c]);\n",
      "C:\\Users\\josma\\AppData\\Local\\Temp\\ipykernel_52328\\2438224740.py:16: SettingWithCopyWarning: \n",
      "A value is trying to be set on a copy of a slice from a DataFrame.\n",
      "Try using .loc[row_indexer,col_indexer] = value instead\n",
      "\n",
      "See the caveats in the documentation: https://pandas.pydata.org/pandas-docs/stable/user_guide/indexing.html#returning-a-view-versus-a-copy\n",
      "  u_df[c] = np.where(u_df[c] <lower, lower, u_df[c]);\n",
      "C:\\Users\\josma\\AppData\\Local\\Temp\\ipykernel_52328\\2438224740.py:17: SettingWithCopyWarning: \n",
      "A value is trying to be set on a copy of a slice from a DataFrame.\n",
      "Try using .loc[row_indexer,col_indexer] = value instead\n",
      "\n",
      "See the caveats in the documentation: https://pandas.pydata.org/pandas-docs/stable/user_guide/indexing.html#returning-a-view-versus-a-copy\n",
      "  u_df[c] = np.where(u_df[c] >upper, upper, u_df[c]);\n",
      "C:\\Users\\josma\\AppData\\Local\\Temp\\ipykernel_52328\\2438224740.py:16: SettingWithCopyWarning: \n",
      "A value is trying to be set on a copy of a slice from a DataFrame.\n",
      "Try using .loc[row_indexer,col_indexer] = value instead\n",
      "\n",
      "See the caveats in the documentation: https://pandas.pydata.org/pandas-docs/stable/user_guide/indexing.html#returning-a-view-versus-a-copy\n",
      "  u_df[c] = np.where(u_df[c] <lower, lower, u_df[c]);\n",
      "C:\\Users\\josma\\AppData\\Local\\Temp\\ipykernel_52328\\2438224740.py:17: SettingWithCopyWarning: \n",
      "A value is trying to be set on a copy of a slice from a DataFrame.\n",
      "Try using .loc[row_indexer,col_indexer] = value instead\n",
      "\n",
      "See the caveats in the documentation: https://pandas.pydata.org/pandas-docs/stable/user_guide/indexing.html#returning-a-view-versus-a-copy\n",
      "  u_df[c] = np.where(u_df[c] >upper, upper, u_df[c]);\n",
      "C:\\Users\\josma\\AppData\\Local\\Temp\\ipykernel_52328\\2438224740.py:16: SettingWithCopyWarning: \n",
      "A value is trying to be set on a copy of a slice from a DataFrame.\n",
      "Try using .loc[row_indexer,col_indexer] = value instead\n",
      "\n",
      "See the caveats in the documentation: https://pandas.pydata.org/pandas-docs/stable/user_guide/indexing.html#returning-a-view-versus-a-copy\n",
      "  u_df[c] = np.where(u_df[c] <lower, lower, u_df[c]);\n",
      "C:\\Users\\josma\\AppData\\Local\\Temp\\ipykernel_52328\\2438224740.py:17: SettingWithCopyWarning: \n",
      "A value is trying to be set on a copy of a slice from a DataFrame.\n",
      "Try using .loc[row_indexer,col_indexer] = value instead\n",
      "\n",
      "See the caveats in the documentation: https://pandas.pydata.org/pandas-docs/stable/user_guide/indexing.html#returning-a-view-versus-a-copy\n",
      "  u_df[c] = np.where(u_df[c] >upper, upper, u_df[c]);\n",
      "C:\\Users\\josma\\AppData\\Local\\Temp\\ipykernel_52328\\2438224740.py:16: SettingWithCopyWarning: \n",
      "A value is trying to be set on a copy of a slice from a DataFrame.\n",
      "Try using .loc[row_indexer,col_indexer] = value instead\n",
      "\n",
      "See the caveats in the documentation: https://pandas.pydata.org/pandas-docs/stable/user_guide/indexing.html#returning-a-view-versus-a-copy\n",
      "  u_df[c] = np.where(u_df[c] <lower, lower, u_df[c]);\n",
      "C:\\Users\\josma\\AppData\\Local\\Temp\\ipykernel_52328\\2438224740.py:17: SettingWithCopyWarning: \n",
      "A value is trying to be set on a copy of a slice from a DataFrame.\n",
      "Try using .loc[row_indexer,col_indexer] = value instead\n",
      "\n",
      "See the caveats in the documentation: https://pandas.pydata.org/pandas-docs/stable/user_guide/indexing.html#returning-a-view-versus-a-copy\n",
      "  u_df[c] = np.where(u_df[c] >upper, upper, u_df[c]);\n"
     ]
    }
   ],
   "source": [
    "#Treatment of Outliers (Children, Income, Email, Contacts, Yearly_equip_failure)\n",
    "\n",
    "for c in u_df.columns:\n",
    "    if u_df[c].dtype == \"O\":\n",
    "        print(\"No treat needed for  for {} since it is a categorical column\".format(c))\n",
    "        print('\\n')\n",
    "        \n",
    "    else:\n",
    "        Q1 = u_df[c].quantile(.25)\n",
    "        Q3 = u_df[c].quantile(.75)\n",
    "        \n",
    "        IQR = Q3-Q1\n",
    "        lower = Q1 - 1.5*IQR\n",
    "        upper = Q3 + 1.5*IQR\n",
    "        \n",
    "        u_df[c] = np.where(u_df[c] <lower, lower, u_df[c]);\n",
    "        u_df[c] = np.where(u_df[c] >upper, upper, u_df[c]);\n",
    "        \n",
    "        print(\"Upper,Lower, IQR for {} is :{}, {}, {}\".format(c,upper,lower,IQR))\n",
    "    \n"
   ]
  },
  {
   "cell_type": "code",
   "execution_count": 38,
   "metadata": {},
   "outputs": [
    {
     "data": {
      "image/png": "[encoded data removed]",
      "text/plain": [
       "<Figure size 1600x600 with 2 Axes>"
      ]
     },
     "metadata": {},
     "output_type": "display_data"
    }
   ],
   "source": [
    "plt.figure(figsize= [16,6])\n",
    "plt.suptitle(\"Plots of Children\") \n",
    "\n",
    "#Clean Plot (Left)\n",
    "plt.subplot(1,2,1)\n",
    "plt.title(\"Cleaned Children Distribution\")\n",
    "sns.boxplot(data=u_df, x='Children');\n",
    "\n",
    "#Oringinal Plot (Right)\n",
    "plt.subplot(1,2,2)\n",
    "plt.title(\"Original Children Distribution\")\n",
    "sns.boxplot(data=df, x='Children');"
   ]
  },
  {
   "cell_type": "code",
   "execution_count": 39,
   "metadata": {},
   "outputs": [
    {
     "data": {
      "image/png": "[encoded data removed]",
      "text/plain": [
       "<Figure size 1600x600 with 2 Axes>"
      ]
     },
     "metadata": {},
     "output_type": "display_data"
    }
   ],
   "source": [
    "plt.figure(figsize= [16,6])\n",
    "plt.suptitle(\"Plots of Income\") \n",
    "\n",
    "#Clean Plot (Left)\n",
    "plt.subplot(1,2,1)\n",
    "plt.title(\"Cleaned Income Distribution\")\n",
    "sns.boxplot(data=u_df, x='Income');\n",
    "\n",
    "#Oringinal Plot (Right)\n",
    "plt.subplot(1,2,2)\n",
    "plt.title(\"Original Income Distribution\")\n",
    "sns.boxplot(data=df, x='Income');"
   ]
  },
  {
   "cell_type": "code",
   "execution_count": 40,
   "metadata": {},
   "outputs": [
    {
     "data": {
      "image/png": "[encoded data removed]",
      "text/plain": [
       "<Figure size 1600x600 with 2 Axes>"
      ]
     },
     "metadata": {},
     "output_type": "display_data"
    }
   ],
   "source": [
    "plt.figure(figsize= [16,6])\n",
    "plt.suptitle(\"Plots of Email\") \n",
    "\n",
    "#Clean Plot (Left)\n",
    "plt.subplot(1,2,1)\n",
    "plt.title(\"Cleaned Email Distribution\")\n",
    "sns.boxplot(data=u_df, x='Email');\n",
    "\n",
    "#Oringinal Plot (Right)\n",
    "plt.subplot(1,2,2)\n",
    "plt.title(\"Original Email Distribution\")\n",
    "sns.boxplot(data=df, x='Email');"
   ]
  },
  {
   "cell_type": "code",
   "execution_count": 41,
   "metadata": {},
   "outputs": [
    {
     "data": {
      "image/png": "[encoded data removed]",
      "text/plain": [
       "<Figure size 1600x600 with 2 Axes>"
      ]
     },
     "metadata": {},
     "output_type": "display_data"
    }
   ],
   "source": [
    "plt.figure(figsize= [16,6])\n",
    "plt.suptitle(\"Plots of Contacts\") \n",
    "\n",
    "#Clean Plot (Left)\n",
    "plt.subplot(1,2,1)\n",
    "plt.title(\"Cleaned Contacts Distribution\")\n",
    "sns.boxplot(data=u_df, x='Contacts');\n",
    "\n",
    "#Oringinal Plot (Right)\n",
    "plt.subplot(1,2,2)\n",
    "plt.title(\"Original Contacts Distribution\")\n",
    "sns.boxplot(data=df, x='Contacts');"
   ]
  },
  {
   "cell_type": "code",
   "execution_count": 42,
   "metadata": {},
   "outputs": [
    {
     "data": {
      "image/png": "[encoded data removed]",
      "text/plain": [
       "<Figure size 1600x600 with 2 Axes>"
      ]
     },
     "metadata": {},
     "output_type": "display_data"
    }
   ],
   "source": [
    "plt.figure(figsize= [16,6])\n",
    "plt.suptitle(\"Plots of Yearly equip failure\") \n",
    "\n",
    "#Clean Plot (Left)\n",
    "plt.subplot(1,2,1)\n",
    "plt.title(\"Cleaned Yearly equip failure Distribution\")\n",
    "sns.boxplot(data=u_df, x='Yearly_equip_failure');\n",
    "\n",
    "#Oringinal Plot (Right)\n",
    "plt.subplot(1,2,2)\n",
    "plt.title(\"Original Yearly equip failure Distribution\")\n",
    "sns.boxplot(data=df, x='Yearly_equip_failure');"
   ]
  },
  {
   "cell_type": "markdown",
   "metadata": {},
   "source": [
    "### C4: Cleaned Data Set"
   ]
  },
  {
   "cell_type": "code",
   "execution_count": null,
   "metadata": {},
   "outputs": [],
   "source": []
  },
  {
   "cell_type": "markdown",
   "metadata": {},
   "source": [
    "## Part IV: Analysis"
   ]
  },
  {
   "cell_type": "markdown",
   "metadata": {},
   "source": [
    "### D1: Splitting the Data "
   ]
  },
  {
   "cell_type": "markdown",
   "metadata": {},
   "source": [
    "### D2: Output and Intermediate Calculations "
   ]
  },
  {
   "cell_type": "markdown",
   "metadata": {},
   "source": [
    "### D3: Code Excution "
   ]
  },
  {
   "cell_type": "markdown",
   "metadata": {},
   "source": [
    "## Part V: Data Summary and Implications "
   ]
  },
  {
   "cell_type": "markdown",
   "metadata": {},
   "source": [
    "### E1: Accuracy and Auc"
   ]
  },
  {
   "cell_type": "markdown",
   "metadata": {},
   "source": [
    "### E2: Results and Implications"
   ]
  },
  {
   "cell_type": "markdown",
   "metadata": {},
   "source": [
    "### E3: Limitation"
   ]
  },
  {
   "cell_type": "markdown",
   "metadata": {},
   "source": [
    "### E4: Course of Action"
   ]
  },
  {
   "cell_type": "markdown",
   "metadata": {},
   "source": [
    "## Part VI: Demonstration"
   ]
  },
  {
   "cell_type": "markdown",
   "metadata": {},
   "source": [
    "### F: Panopto Recording"
   ]
  },
  {
   "cell_type": "markdown",
   "metadata": {},
   "source": [
    "### G: Sources For Third-Party Code "
   ]
  },
  {
   "cell_type": "markdown",
   "metadata": {},
   "source": [
    "### H: Sources "
   ]
  },
  {
   "cell_type": "markdown",
   "metadata": {},
   "source": [
    "Miesle, P. (2024, September 6). What is the K-Nearest Neighbors (KNN) Algorithm? DataStax; DataStax. https://www.datastax.com/guides/what-is-k-nearest-neighbors-knn-algorithm\n",
    "\n",
    "‌\n",
    "\n",
    "‌"
   ]
  },
  {
   "cell_type": "markdown",
   "metadata": {},
   "source": []
  }
 ],
 "metadata": {
  "kernelspec": {
   "display_name": "base",
   "language": "python",
   "name": "python3"
  },
  "language_info": {
   "codemirror_mode": {
    "name": "ipython",
    "version": 3
   },
   "file_extension": ".py",
   "mimetype": "text/x-python",
   "name": "python",
   "nbconvert_exporter": "python",
   "pygments_lexer": "ipython3",
   "version": "3.12.7"
  }
 },
 "nbformat": 4,
 "nbformat_minor": 2
}
